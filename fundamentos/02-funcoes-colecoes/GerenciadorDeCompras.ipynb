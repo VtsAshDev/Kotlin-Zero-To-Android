{
 "cells": [
  {
   "metadata": {},
   "cell_type": "markdown",
   "source": [
    "# Desafio: Gerenciador de Compras\n",
    "\n",
    "## Regras:\n",
    "- Criar funções para adicionar, remover e listar itens\n",
    "- Usar uma `MutableList`\n",
    "- Permitir o usuário buscar por item pelo nome\n",
    "- Exibir total de itens e valor estimado\n",
    "\n",
    "## Extras:\n",
    "- Separar funções em um arquivo utilitário\n"
   ]
  },
  {
   "metadata": {},
   "cell_type": "markdown",
   "source": "## ComprasUtils.Kt"
  },
  {
   "metadata": {
    "ExecuteTime": {
     "end_time": "2025-07-10T13:50:14.073873200Z",
     "start_time": "2025-07-10T13:50:09.407227500Z"
    }
   },
   "cell_type": "code",
   "source": [
    "data class Item(val name: String, val preco: Double)\n",
    "\n",
    "fun adicionarItem(lista: MutableList<Item>, nome:String, preco: Double): Unit {\n",
    "    lista.add(Item(nome, preco))\n",
    "    println(\"Item ${nome} adicionado com sucesso\")\n",
    "}\n",
    "\n",
    "fun remover(lista: MutableList<Item>, nome: String): Unit {\n",
    "    val removido = lista.removeIf { it.name.equals(nome, ignoreCase = true) }\n",
    "    if(!removido) {\n",
    "        println(\"Item ${nome} não encontrado\")\n",
    "    } else {\n",
    "        println(\"Item ${nome} removido com sucesso\")\n",
    "    }\n",
    "}\n",
    "\n",
    "fun listarItens(lista: List<Item>): Unit {\n",
    "    if(lista.isEmpty()) {\n",
    "        println(\"A lista de compras está vazia.\")\n",
    "    } else {\n",
    "        println(\"Intens na lista de compras:\")\n",
    "        lista.forEach { println(\"-${it.name}: R$${it.preco}\") }\n",
    "    }\n",
    "}\n",
    "\n",
    "fun buscarItem(lista: List<Item>, nome: String): Unit {\n",
    "    val encontrados = lista.filter { it.name.contains(nome, ignoreCase = true) }\n",
    "\n",
    "    if (encontrados.isEmpty()) {\n",
    "        println(\"Nenhum Item Encontrado com ${nome}\")\n",
    "    } else {\n",
    "        println(\"Itens encontrados\")\n",
    "        encontrados.forEach { println(\"-${it.name}: ${it.preco}\\n\") }\n",
    "    }\n",
    "\n",
    "}\n",
    "\n",
    "fun mostrarResumo(lista: List<Item>) {\n",
    "    val total = lista.sumOf { it.preco }\n",
    "    println(\"Total de Items: ${lista.size}\")\n",
    "    println(\"Valor estimado da compra: R$ ${total}\")\n",
    "}"
   ],
   "outputs": [],
   "execution_count": 1
  },
  {
   "metadata": {},
   "cell_type": "markdown",
   "source": "## Main.Kt"
  },
  {
   "metadata": {
    "ExecuteTime": {
     "end_time": "2025-07-10T13:50:15.833872800Z",
     "start_time": "2025-07-10T13:50:14.098876400Z"
    }
   },
   "cell_type": "code",
   "source": [
    "\n",
    "\n",
    "var listaDeCompras = mutableListOf<Item>()\n",
    "\n",
    "adicionarItem(listaDeCompras,\"Arroz\", 10.0)\n",
    "adicionarItem(listaDeCompras,\"Feijão\",8.5)\n",
    "adicionarItem(listaDeCompras,\"Macarrão\",5.75)\n",
    "\n",
    "println(\"\\n---Listando Itens---\")\n",
    "listarItens(listaDeCompras)\n",
    "\n",
    "println(\"\\n---Buscando por Feijão---\")\n",
    "buscarItem(listaDeCompras,\"Fei\")\n",
    "\n",
    "println(\"\\n---Removendo Arroz---\")\n",
    "remover(listaDeCompras,\"arroz\")\n",
    "\n",
    "println(\"\\n---Lista Atualizada---\")\n",
    "listarItens(listaDeCompras)\n",
    "\n",
    "println(\"\\n---Resumo---\")\n",
    "mostrarResumo(listaDeCompras)\n"
   ],
   "outputs": [
    {
     "name": "stdout",
     "output_type": "stream",
     "text": [
      "Item Arroz adicionado com sucesso\r\n",
      "Item Feijão adicionado com sucesso\r\n",
      "Item Macarrão adicionado com sucesso\r\n",
      "\n",
      "---Listando Itens---\r\n",
      "Intens na lista de compras:\r\n",
      "-Arroz: R$10.0\r\n",
      "-Feijão: R$8.5\r\n",
      "-Macarrão: R$5.75\r\n",
      "\n",
      "---Buscando por Feijão---\r\n",
      "Itens encontrados\r\n",
      "-Feijão: 8.5\n",
      "\r\n",
      "\n",
      "---Removendo Arroz---\r\n",
      "Item arroz removido com sucesso\r\n",
      "\n",
      "---Lista Atualizada---\r\n",
      "Intens na lista de compras:\r\n",
      "-Feijão: R$8.5\r\n",
      "-Macarrão: R$5.75\r\n",
      "\n",
      "---Resumo---\r\n",
      "Total de Items: 2\r\n",
      "Valor estimado da compra: R$ 14.25\r\n"
     ]
    }
   ],
   "execution_count": 2
  }
 ],
 "metadata": {
  "kernelspec": {
   "display_name": "Kotlin",
   "language": "kotlin",
   "name": "kotlin"
  },
  "language_info": {
   "name": "kotlin",
   "version": "2.2.20-dev-4982",
   "mimetype": "text/x-kotlin",
   "file_extension": ".kt",
   "pygments_lexer": "kotlin",
   "codemirror_mode": "text/x-kotlin",
   "nbconvert_exporter": ""
  }
 },
 "nbformat": 4,
 "nbformat_minor": 0
}
