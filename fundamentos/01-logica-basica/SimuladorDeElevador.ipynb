{
 "cells": [
  {
   "metadata": {},
   "cell_type": "markdown",
   "source": [
    "# Desafio: Simulador de Elevador (Terminal)\n",
    "\n",
    "## Regras:\n",
    "- O elevador começa no andar 0\n",
    "- O usuário pode digitar \"subir\", \"descer\" ou \"sair\"\n",
    "- O programa deve impedir que desça abaixo do térreo\n",
    "- Deve exibir o andar atual após cada ação\n",
    "\n",
    "## Requisitos:\n",
    "- Uso de `when`, `while`, `println`, `readLine`"
   ]
  },
  {
   "cell_type": "code",
   "metadata": {
    "collapsed": true
   },
   "source": [
    "class Elevador(var andar: Int = 0) {\n",
    "\n",
    "    fun subir(): String {\n",
    "        andar += 1\n",
    "        return \"O elevador subiu. Andar atual: $andar\"\n",
    "    }\n",
    "\n",
    "    fun descer(): String {\n",
    "        if (andar <= 0) return \"Não pode descer abaixo do térreo.\"\n",
    "        andar -= 1\n",
    "        return \"Desceu para o andar: $andar\"\n",
    "    }\n",
    "}\n",
    "\n",
    "val elevador = Elevador()\n",
    "\n",
    "println(\"=== Simulador de Elevador ===\")\n",
    "println(\"Comandos disponíveis: subir | descer | sair\")\n",
    "\n",
    "while (true) {\n",
    "    print(\"\\nDigite um comando: \")\n",
    "    val comando = readLine()?.trim()?.lowercase() ?: \"\"\n",
    "\n",
    "    when(comando) {\n",
    "        \"subir\" -> {\n",
    "            println(elevador.subir())\n",
    "        }\n",
    "\n",
    "        \"descer\" -> {\n",
    "            println(elevador.descer())\n",
    "        }\n",
    "\n",
    "        \"sair\" -> {\n",
    "            println(\"Encerrando o simulador. Até mais!\")\n",
    "            break\n",
    "        }\n",
    "\n",
    "        else -> {\n",
    "            println(\"Comando inválido. Tente novamente.\")\n",
    "        }\n",
    "    }\n",
    "}\n"
   ],
   "outputs": [],
   "execution_count": null
  }
 ],
 "metadata": {
  "kernelspec": {
   "display_name": "Kotlin",
   "language": "kotlin",
   "name": "kotlin"
  },
  "language_info": {
   "name": "kotlin",
   "version": "1.9.23",
   "mimetype": "text/x-kotlin",
   "file_extension": ".kt",
   "pygments_lexer": "kotlin",
   "codemirror_mode": "text/x-kotlin",
   "nbconvert_exporter": ""
  }
 },
 "nbformat": 4,
 "nbformat_minor": 0
}
