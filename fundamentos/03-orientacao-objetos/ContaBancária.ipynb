{
 "cells": [
  {
   "metadata": {},
   "cell_type": "markdown",
   "source": [
    "# Desafio: Sistema de Conta Bancária\n",
    "\n",
    "## Regras:\n",
    "- Classe `ContaBancaria`: titular, saldo\n",
    "- Métodos: `depositar()`, `sacar()`, `exibirSaldo()`\n",
    "- Criar herança para `ContaPoupanca` com limite de saques mensais\n",
    "\n",
    "## Extras:\n",
    "- Usar `data class` para registrar transações\n"
   ]
  },
  {
   "metadata": {
    "ExecuteTime": {
     "end_time": "2025-07-10T19:36:37.878078300Z",
     "start_time": "2025-07-10T19:36:36.437932800Z"
    }
   },
   "cell_type": "code",
   "source": [
    "import java.time.LocalDate\n",
    "\n",
    "enum class Metodo{\n",
    "    SAQUE,\n",
    "    DEPOSITO,\n",
    "}\n",
    "\n",
    "data class Transacao(var value:Double, var metodo: Metodo, var data: LocalDate)\n",
    "\n",
    "open class ContaBancaria(\n",
    "    protected var titular: String,\n",
    "    protected var saldo: Double,\n",
    "    protected var transacoes: MutableList<Transacao> = mutableListOf()\n",
    "){\n",
    "     fun depositar(value:Double) {\n",
    "        println(\"Titular: $titular Está efetuando um Deposito:\")\n",
    "        if (value <= 0){\n",
    "            println(\"Digite um valor válido para deposito\")\n",
    "            return\n",
    "        }\n",
    "        this.saldo += value\n",
    "        this.transacoes.add(Transacao(value,Metodo.DEPOSITO,LocalDate.now()))\n",
    "\n",
    "        println(\"Deposito no valor de R$ $value efetuado com sucesso saldo atual : ${this.saldo}\\n\")\n",
    "    }\n",
    "\n",
    "    open fun sacar(value:Double) {\n",
    "        if (value > this.saldo){\n",
    "            println(\"Saldo insuficiente para o saque\")\n",
    "        }\n",
    "        this.saldo -= value\n",
    "        this.transacoes.add(Transacao(value,Metodo.SAQUE,LocalDate.now()))\n",
    "        println(\"Titular: $titular Está efetuando um Saque:\")\n",
    "        println(\"Saque no valor de R$ $value efetuado com sucesso saldo atual : ${this.saldo}\\n\")\n",
    "    }\n",
    "\n",
    "    fun exibirSaldo() {\n",
    "        println(\"Saldo Atual do Titular ${this.titular}: R$ ${this.saldo}\")\n",
    "    }\n",
    "}\n",
    "\n",
    "class ContaPoupanca(titular: String, saldo:Double) : ContaBancaria(titular, saldo) {\n",
    "\n",
    "    override fun sacar(value:Double) {\n",
    "        println(\"Titular: $titular  Está efetuando um Saque da conta Poupança:\")\n",
    "\n",
    "        val limite = 3 ;\n",
    "\n",
    "        if (value > this.saldo){\n",
    "            println(\"Saldo insuficiente para o saque\")\n",
    "            return\n",
    "        }\n",
    "\n",
    "        val saques = transacoes.filter { it.metodo.equals(Metodo.SAQUE) }\n",
    "        val ultimosSaques = saques.filter { it.data.month == LocalDate.now().month }\n",
    "\n",
    "        if ( ultimosSaques.size >= limite) {\n",
    "            println(\"Limite de Saques Mensais atingidos\")\n",
    "            return\n",
    "        }\n",
    "\n",
    "        this.saldo -= value\n",
    "        this.transacoes.add(Transacao(value,Metodo.SAQUE,LocalDate.now()))\n",
    "\n",
    "        println(\"Saque no valor de R$ $value efetuado com sucesso saldo atual : ${this.saldo}\")\n",
    "    }\n",
    "}\n",
    "\n",
    "var Conta = ContaBancaria(\"Vitor\",200.00)\n",
    "var Poupança = ContaPoupanca(\"Vitin\",200.00)\n",
    "\n",
    "Conta.depositar(200.00)\n",
    "Conta.sacar(200.00)\n",
    "Conta.exibirSaldo()\n",
    "\n",
    "\n"
   ],
   "outputs": [
    {
     "name": "stdout",
     "output_type": "stream",
     "text": [
      "Titular: Vitor Está efetuando um Deposito:\r\n",
      "Deposito no valor de R$ 200.0 efetuado com sucesso saldo atual : 400.0\n",
      "\r\n",
      "Titular: Vitor Está efetuando um Saque:\r\n",
      "Saque no valor de R$ 200.0 efetuado com sucesso saldo atual : 200.0\n",
      "\r\n",
      "Saldo Atual do Titular Vitor: R$ 200.0\r\n"
     ]
    }
   ],
   "execution_count": 47
  },
  {
   "metadata": {},
   "cell_type": "markdown",
   "source": [
    "# Console\n",
    "```text\n",
    "Titular: Vitor Está efetuando um Deposito:\n",
    "Deposito no valor de R$ 200.0 efetuado com sucesso saldo atual : 400.0\n",
    "\n",
    "Titular: Vitor Está efetuando um Saque:\n",
    "Saque no valor de R$ 200.0 efetuado com sucesso saldo atual : 200.0\n",
    "\n",
    "Saldo Atual do Titular Vitor: R$ 200.0\n",
    "````"
   ]
  }
 ],
 "metadata": {
  "kernelspec": {
   "display_name": "Kotlin",
   "language": "kotlin",
   "name": "kotlin"
  },
  "language_info": {
   "name": "kotlin",
   "version": "2.2.20-dev-4982",
   "mimetype": "text/x-kotlin",
   "file_extension": ".kt",
   "pygments_lexer": "kotlin",
   "codemirror_mode": "text/x-kotlin",
   "nbconvert_exporter": ""
  }
 },
 "nbformat": 4,
 "nbformat_minor": 0
}
